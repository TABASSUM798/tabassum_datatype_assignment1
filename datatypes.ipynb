{
 "cells": [
  {
   "cell_type": "code",
   "execution_count": 1,
   "id": "40d22096",
   "metadata": {},
   "outputs": [
    {
     "name": "stdout",
     "output_type": "stream",
     "text": [
      "['tabassum_furkhana']\n"
     ]
    }
   ],
   "source": [
    "name=[\"tabassum_furkhana\"]\n",
    "print(name)"
   ]
  },
  {
   "cell_type": "code",
   "execution_count": 2,
   "id": "2c2c4716",
   "metadata": {},
   "outputs": [
    {
     "name": "stdout",
     "output_type": "stream",
     "text": [
      "['taslim', 'raziya', 'aleem', 'aahil', 'saffu']\n"
     ]
    }
   ],
   "source": [
    "name=[\"taslim\",\"raziya\",\"aleem\",\"aahil\",\"saffu\"]\n",
    "print(name)"
   ]
  },
  {
   "cell_type": "code",
   "execution_count": 3,
   "id": "36d88e18",
   "metadata": {},
   "outputs": [
    {
     "name": "stdout",
     "output_type": "stream",
     "text": [
      "['father', 'mother', 'husband', 'son', 'daughter']\n"
     ]
    }
   ],
   "source": [
    "relation=[\"father\",\"mother\",\"husband\",\"son\",\"daughter\"]\n",
    "print(relation)"
   ]
  },
  {
   "cell_type": "code",
   "execution_count": null,
   "id": "f525d4cd",
   "metadata": {},
   "outputs": [],
   "source": []
  }
 ],
 "metadata": {
  "kernelspec": {
   "display_name": "Python 3 (ipykernel)",
   "language": "python",
   "name": "python3"
  },
  "language_info": {
   "codemirror_mode": {
    "name": "ipython",
    "version": 3
   },
   "file_extension": ".py",
   "mimetype": "text/x-python",
   "name": "python",
   "nbconvert_exporter": "python",
   "pygments_lexer": "ipython3",
   "version": "3.10.9"
  }
 },
 "nbformat": 4,
 "nbformat_minor": 5
}
